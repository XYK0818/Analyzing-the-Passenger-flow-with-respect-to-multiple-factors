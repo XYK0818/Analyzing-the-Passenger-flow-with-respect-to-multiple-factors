{
 "cells": [
  {
   "cell_type": "code",
   "execution_count": 4,
   "metadata": {},
   "outputs": [],
   "source": [
    "import numpy as np\n",
    "import pandas as pd\n",
    "import matplotlib.pyplot as plt\n",
    "import matplotlib.patches as mpatches\n",
    "import scipy\n",
    "import scipy.stats\n",
    "import statsmodels.api as sm\n",
    "from sklearn.linear_model import SGDRegressor\n",
    "from ggplot import *"
   ]
  },
  {
   "cell_type": "markdown",
   "metadata": {},
   "source": [
    "Lodaing data"
   ]
  },
  {
   "cell_type": "code",
   "execution_count": 5,
   "metadata": {},
   "outputs": [],
   "source": [
    "weather = pd.read_csv('data.csv');\n",
    "weather_regress = pd.read_csv('data_regress.csv');"
   ]
  },
  {
   "cell_type": "markdown",
   "metadata": {},
   "source": [
    "Extract two dataframe with respect to with or without fog"
   ]
  },
  {
   "cell_type": "code",
   "execution_count": 6,
   "metadata": {
    "collapsed": true
   },
   "outputs": [],
   "source": [
    "fog = weather.loc[weather.fog == 1, 'Entries_num_hourly']\n",
    "nonfog = weather.loc[weather.fog == 0, 'Entries_num_hourly']"
   ]
  },
  {
   "cell_type": "markdown",
   "metadata": {},
   "source": [
    "Here we look at some statistic property, like mean and std of number of entries"
   ]
  },
  {
   "cell_type": "code",
   "execution_count": 7,
   "metadata": {},
   "outputs": [
    {
     "name": "stdout",
     "output_type": "stream",
     "text": [
      "The mean of entries with fog is 1154.6593496303688\n",
      "The mean of entries without fog is 1083.449282087678\n",
      "The std of entries with fog is 2474.036823679882\n",
      "The std of entries without fog is 2308.3520393684516\n"
     ]
    }
   ],
   "source": [
    "fog_mean = np.mean(fog)\n",
    "nonfog_mean = np.mean(nonfog)\n",
    "fog_std = np.std(fog)\n",
    "nonfog_std = np.std(nonfog)\n",
    "print ('The mean of entries with fog is ' + str(fog_mean))\n",
    "print ('The mean of entries without fog is ' + str(nonfog_mean))\n",
    "print ('The std of entries with fog is ' + str(fog_std))\n",
    "print ('The std of entries without fog is ' + str(nonfog_std))"
   ]
  },
  {
   "cell_type": "markdown",
   "metadata": {},
   "source": [
    "Then we define two kinds of linear regression model to train the data"
   ]
  },
  {
   "cell_type": "code",
   "execution_count": 8,
   "metadata": {
    "collapsed": true
   },
   "outputs": [],
   "source": [
    "def linear_regression(features, values):\n",
    "    features = sm.add_constant(features)\n",
    "    model = sm.OLS(values, features)\n",
    "    results = model.fit()\n",
    "    intercept = results.params[0]\n",
    "    parameters = results.params[1:]\n",
    "    return intercept, parameters\n",
    "\n",
    "def linear_regression_SGD(features, values):\n",
    "    model = SGDRegressor()\n",
    "    model.fit(features, values)\n",
    "    intercept = model.intercept_\n",
    "    parameters = model.coef_\n",
    "    return intercept, parameters"
   ]
  },
  {
   "cell_type": "markdown",
   "metadata": {},
   "source": [
    "We select some features which might influence the number of entries\n"
   ]
  },
  {
   "cell_type": "code",
   "execution_count": 9,
   "metadata": {
    "collapsed": true
   },
   "outputs": [],
   "source": [
    "features = weather_regress[['fog','meantempi','station','conditions','day_week','hour']]\n",
    "f = pd.get_dummies(features)\n",
    "v = weather_regress['Entries_num_hourly']"
   ]
  },
  {
   "cell_type": "markdown",
   "metadata": {},
   "source": [
    "We apply the linear model in statemodels and predict the values"
   ]
  },
  {
   "cell_type": "code",
   "execution_count": 10,
   "metadata": {
    "collapsed": true
   },
   "outputs": [],
   "source": [
    "#Implemet linear regression\n",
    "i_sm, p_sm = linear_regression(f, v)\n",
    "#Predicted values form the regression equation.\n",
    "p_sm = i_sm + np.dot(f, p_sm)"
   ]
  },
  {
   "cell_type": "markdown",
   "metadata": {},
   "source": [
    "Handling(normlizing) data to fit the linear model "
   ]
  },
  {
   "cell_type": "code",
   "execution_count": 11,
   "metadata": {
    "collapsed": true
   },
   "outputs": [],
   "source": [
    "def norm_features(features):\n",
    "    means = np.mean(features, axis=0)\n",
    "    std = np.std(features, axis=0)\n",
    "    norm_features = (features - means) / std\n",
    "    return means, std, norm_features"
   ]
  },
  {
   "cell_type": "markdown",
   "metadata": {},
   "source": [
    "Linear regression with SGDRegressor in linear model and make the prediction"
   ]
  },
  {
   "cell_type": "code",
   "execution_count": 12,
   "metadata": {
    "collapsed": true
   },
   "outputs": [],
   "source": [
    "# Get numpy arrays\n",
    "features_array = f.values\n",
    "values_array = v.values\n",
    "means, std, norm_features_array = norm_features(features_array)\n",
    "\n",
    "# Perform gradient descent\n",
    "norm_i, norm_p = linear_regression_SGD(norm_features_array, values_array)\n",
    "i_SGD = norm_i - np.sum(means * norm_p / std)\n",
    "p_SGD = norm_p / std\n",
    "p_SGD = i_SGD + np.dot(features_array, p_SGD)"
   ]
  },
  {
   "cell_type": "markdown",
   "metadata": {},
   "source": [
    "We are going to analyze the residual error to check how well the model can fit the data"
   ]
  },
  {
   "cell_type": "code",
   "execution_count": 13,
   "metadata": {
    "collapsed": true
   },
   "outputs": [],
   "source": [
    "def residual(data,predictions):\n",
    "    fig = plt.figure()\n",
    "    axis = fig.add_subplot(111);\n",
    "    fig.suptitle('Residual')\n",
    "    axis.set_xlabel('Residual Error')\n",
    "    axis.set_ylabel('Frequency')\n",
    "    (data['Entries_num_hourly'] - predictions).hist()\n",
    "    return plt"
   ]
  },
  {
   "cell_type": "markdown",
   "metadata": {},
   "source": [
    "Here we show the residual of both of the linear model through Histogram"
   ]
  },
  {
   "cell_type": "code",
   "execution_count": 14,
   "metadata": {},
   "outputs": [
    {
     "data": {
      "image/png": "[encoded data removed]",
      "text/plain": [
       "<matplotlib.figure.Figure at 0x119b32828>"
      ]
     },
     "metadata": {},
     "output_type": "display_data"
    }
   ],
   "source": [
    "#Vis the residuals\n",
    "residual_plt = residual(weather_regress, p_sm)\n",
    "residual_plt.show()"
   ]
  },
  {
   "cell_type": "code",
   "execution_count": 15,
   "metadata": {},
   "outputs": [
    {
     "data": {
      "image/png": "[encoded data removed]",
      "text/plain": [
       "<matplotlib.figure.Figure at 0x119fa9668>"
      ]
     },
     "metadata": {},
     "output_type": "display_data"
    }
   ],
   "source": [
    "#Vis the residuals of SGD\n",
    "residual_plt_SGD = residual(weather_regress, p_SGD)\n",
    "residual_plt_SGD.show()"
   ]
  },
  {
   "cell_type": "markdown",
   "metadata": {},
   "source": [
    "Now we check the RSS of both regression"
   ]
  },
  {
   "cell_type": "code",
   "execution_count": 16,
   "metadata": {
    "collapsed": true
   },
   "outputs": [],
   "source": [
    "def rss(data,predictions):\n",
    "    mean = np.mean(data['Entries_num_hourly'])\n",
    "    SST = ((data['Entries_num_hourly'] - mean) ** 2).sum()\n",
    "    SSReg = ((predictions - data['Entries_num_hourly']) ** 2).sum()\n",
    "    rss = 1 - np.mean((SSReg / SST))\n",
    "    return rss"
   ]
  },
  {
   "cell_type": "code",
   "execution_count": 17,
   "metadata": {},
   "outputs": [
    {
     "name": "stdout",
     "output_type": "stream",
     "text": [
      "Rss for the model by sm is 0.425153343291\n",
      "Rss for the model by SGD is 0.397692019358\n"
     ]
    }
   ],
   "source": [
    "# compute rss for the each model\n",
    "Rss = rss(weather_regress, p_sm)\n",
    "Rss_SGD = rss(weather_regress, p_SGD)\n",
    "print ('Rss for the model by sm is ' + str(Rss))\n",
    "print ('Rss for the model by SGD is ' + str(Rss_SGD))"
   ]
  },
  {
   "cell_type": "markdown",
   "metadata": {},
   "source": [
    "Here we directly look at how fog can influence the number of entries."
   ]
  },
  {
   "cell_type": "code",
   "execution_count": 18,
   "metadata": {},
   "outputs": [
    {
     "data": {
      "image/png": "[encoded data removed]",
      "text/plain": [
       "<matplotlib.figure.Figure at 0x11b149be0>"
      ]
     },
     "metadata": {},
     "output_type": "display_data"
    }
   ],
   "source": [
    "plt.hist([nonfog], bins = 100, color = ['blue'], alpha = 1, label = \"No Fog\")\n",
    "plt.hist([fog], bins = 100, color = ['red'], alpha = 1, label = \"Fog\")\n",
    "plt.xlabel('Entries_num_hourly')\n",
    "plt.ylabel('Frequency')\n",
    "plt.title('Histogram of Entries_num_hourly')\n",
    "plt.axis([0, 6000, 0, 50000])\n",
    "plt.legend()\n",
    "plt.show()"
   ]
  },
  {
   "cell_type": "markdown",
   "metadata": {},
   "source": [
    "Ggplot is a powerful stetch method to visualize and analyze the data. First, we check a few features to varify relability of data"
   ]
  },
  {
   "cell_type": "code",
   "execution_count": 19,
   "metadata": {
    "collapsed": true
   },
   "outputs": [],
   "source": [
    "def vis_with_ggplot(data):\n",
    "    temp_winspeed = data.loc[:,['meanwindspdi','meantempi']].drop_duplicates()\n",
    "    temp_winspeed_plot =  ggplot(temp_winspeed, aes('meantempi','meanwindspdi')) + \\\n",
    "    geom_point(colour='black')+\\\n",
    "    ggtitle('Temperature and Windspeed')+ xlab('Temperature') + ylab('Windspeed')\n",
    "\n",
    "    return temp_winspeed_plot;"
   ]
  },
  {
   "cell_type": "code",
   "execution_count": 20,
   "metadata": {},
   "outputs": [
    {
     "data": {
      "image/png": "[encoded data removed]",
      "text/plain": [
       "<matplotlib.figure.Figure at 0x119fd2550>"
      ]
     },
     "metadata": {},
     "output_type": "display_data"
    },
    {
     "data": {
      "text/plain": [
       "<ggplot: (-9223372036557947879)>"
      ]
     },
     "execution_count": 20,
     "metadata": {},
     "output_type": "execute_result"
    }
   ],
   "source": [
    "#Visualizations\n",
    "temp_windspeed_plot = vis_with_ggplot(weather)\n",
    "temp_windspeed_plot"
   ]
  },
  {
   "cell_type": "markdown",
   "metadata": {},
   "source": [
    "Now we are going to show the relation between hour of a day and number of entries."
   ]
  },
  {
   "cell_type": "markdown",
   "metadata": {},
   "source": [
    "# data = weather_regress[['hour', 'Entries_num_hourly']]\n",
    "hourly = data.groupby(['hour']).sum()\n",
    "pd.DataFrame(hourly).reset_index(inplace=True)\n",
    "ggplot(hourly, aes('hour', 'Entries_num_hourly'))+geom_point()+geom_line()+xlim(0,20)+ylim(0,)+ggtitle('Num of passengers by time of day')+xlab('Hour of day')+ylab('Num of entries per hour')"
   ]
  }
 ],
 "metadata": {
  "kernelspec": {
   "display_name": "Python 3",
   "language": "python",
   "name": "python3"
  },
  "language_info": {
   "codemirror_mode": {
    "name": "ipython",
    "version": 3
   },
   "file_extension": ".py",
   "mimetype": "text/x-python",
   "name": "python",
   "nbconvert_exporter": "python",
   "pygments_lexer": "ipython3",
   "version": "3.6.1"
  }
 },
 "nbformat": 4,
 "nbformat_minor": 2
}
